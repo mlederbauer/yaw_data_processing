{
 "cells": [
  {
   "cell_type": "code",
   "execution_count": 1,
   "metadata": {},
   "outputs": [],
   "source": [
    "# import libraries\n",
    "import numpy as np\n",
    "import pandas as pd\n",
    "import os"
   ]
  },
  {
   "cell_type": "code",
   "execution_count": 12,
   "metadata": {},
   "outputs": [],
   "source": [
    "# create init vectors with sensible values\n",
    "Tmin, Tmax = 298, 298\n",
    "\n",
    "# create T_vector that initially contains 298, 298.15, 373, 500 K\n",
    "T_vector = np.array([298, 298.15, 373, 500])"
   ]
  },
  {
   "cell_type": "code",
   "execution_count": 13,
   "metadata": {},
   "outputs": [
    {
     "name": "stdout",
     "output_type": "stream",
     "text": [
      "/local/home/mlederbauer/SPT/raw_data/yaw_data_collection/data_preparation\n",
      "Tmin = 8.0 Tmax = 7326.47 Xmin = 0.1 Xmax = 1000 Ymin = 10 Ymax = 10000\n"
     ]
    }
   ],
   "source": [
    "# loop through all files in the folder data ending with .csv\n",
    "for file in os.listdir('../single_data_SMILES/'):\n",
    "    # read in data\n",
    "    df = pd.read_csv('../single_data_SMILES/' + file, sep = ';')\n",
    "    # if column 'Tmin' is in df, set Tmin as the minimum of the column 'Tmin' and the current Tmin\n",
    "    if 'Tmin' in df.columns:\n",
    "        Tmin = min(df['Tmin'].min(), Tmin)\n",
    "        Tmax = max(df['Tmax'].max(), Tmax)\n",
    "\n",
    "    # for Henry constant\n",
    "    # when file is henry_constant.csv, add the values of the column 'T_degK' to the T_vector\n",
    "    if file == 'henry_constant.csv' or file=='refractive_index.csv' or file=='solubility_octanol_water.csv': # or file=='solubility_parameters.csv':\n",
    "        T_vector = np.append(T_vector, df['T_degK'].values.astype(float))\n",
    "\n",
    "# print the values\n",
    "print('Tmin =', Tmin, 'Tmax =', Tmax, 'Xmin =', Xmin, 'Xmax =', Xmax, 'Ymin =', Ymin, 'Ymax =', Ymax)"
   ]
  },
  {
   "cell_type": "code",
   "execution_count": 14,
   "metadata": {},
   "outputs": [
    {
     "name": "stdout",
     "output_type": "stream",
     "text": [
      "8087\n",
      "[ 148.    150.    160.    170.    180.    186.15  190.    199.95  200.\n",
      "  210.    220.    230.    231.    231.15  233.    233.15  238.65  240.\n",
      "  248.    250.    260.    270.    273.15  274.5   275.15  278.15  279.5\n",
      "  280.    283.15  287.15  287.65  288.    288.05  288.15  289.    289.15\n",
      "  289.65  290.    290.15  291.05  291.15  292.05  293.    293.05  293.15\n",
      "  293.65  293.8   294.    294.15  294.25  295.    295.15  296.    296.15\n",
      "  296.65  296.75  297.    297.15  297.65  297.8   297.95  298.    298.15\n",
      "  298.25  299.15  299.75  299.85  300.    300.15  300.65  301.15  303.\n",
      "  303.15  307.    307.15  307.25  308.    308.15  309.25  310.    310.15\n",
      "  313.    315.    318.    318.15  320.    320.15  323.    323.15  324.35\n",
      "  328.    330.    331.15  333.15  334.15  337.5   338.    338.15  340.\n",
      "  343.15  347.15  348.    348.15  349.15  350.    351.    351.15  352.15\n",
      "  353.    353.15  357.65  359.15  360.    363.15  370.    372.15  373.\n",
      "  373.15  380.    384.    386.    386.3   388.    390.    400.    403.\n",
      "  403.15  405.    407.15  410.    420.    430.    440.    450.    460.\n",
      "  470.    480.    490.    500.    510.    520.    530.    540.    550.\n",
      "  560.    570.    580.    590.    600.    610.    620.    630.    640.\n",
      "  650.    660.    670.    680.    690.    700.    710.    720.    730.\n",
      "  740.    750.    760.    770.    780.    790.    800.    810.    820.\n",
      "  830.    840.    850.    860.    870.    880.    890.    900.    910.\n",
      "  920.    930.    940.    950.    960.    970.    980.    990.   1000.\n",
      " 1010.   1020.   1030.   1040.   1050.   1060.   1070.   1080.   1090.\n",
      " 1100.   1110.   1120.   1130.   1140.   1150.   1160.   1170.   1180.\n",
      " 1190.   1200.   1210.   1220.   1230.   1240.   1250.   1260.   1270.\n",
      " 1280.   1290.   1300.   1310.   1320.   1330.   1340.   1350.   1360.\n",
      " 1370.   1380.   1390.   1400.   1410.   1420.   1430.   1440.   1450.\n",
      " 1460.   1470.   1480.   1490.  ]\n",
      "238\n"
     ]
    }
   ],
   "source": [
    "print(len(T_vector))\n",
    "# append to T_vector values between 150 K and 1500 K in steps of 50 K\n",
    "T_vector = np.append(T_vector, np.arange(150, 1500, 10))\n",
    "\n",
    "# convert T_vector to float\n",
    "T_vector = T_vector.astype(float)\n",
    "\n",
    "# delete -inf from T_vector\n",
    "T_vector = np.delete(T_vector, np.where(T_vector == -np.inf))\n",
    "\n",
    "# make T_vector unique\n",
    "T_vector = np.unique(T_vector)\n",
    "\n",
    "# print the T_vector\n",
    "print(T_vector)\n",
    "# print the length of the T_vector\n",
    "print(len(T_vector))"
   ]
  },
  {
   "cell_type": "code",
   "execution_count": 15,
   "metadata": {},
   "outputs": [],
   "source": [
    "# save T_vector to txt file\n",
    "np.savetxt('../T_vector.txt', T_vector, fmt = '%.2f')"
   ]
  }
 ],
 "metadata": {
  "kernelspec": {
   "display_name": "base",
   "language": "python",
   "name": "python3"
  },
  "language_info": {
   "codemirror_mode": {
    "name": "ipython",
    "version": 3
   },
   "file_extension": ".py",
   "mimetype": "text/x-python",
   "name": "python",
   "nbconvert_exporter": "python",
   "pygments_lexer": "ipython3",
   "version": "3.9.13"
  },
  "orig_nbformat": 4,
  "vscode": {
   "interpreter": {
    "hash": "98ccc1a16e43ff5fd4133af7276075ca92001222ee9d9855e0117de7ac84651e"
   }
  }
 },
 "nbformat": 4,
 "nbformat_minor": 2
}
