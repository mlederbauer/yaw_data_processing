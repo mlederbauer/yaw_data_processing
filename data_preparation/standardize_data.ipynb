{
 "cells": [
  {
   "attachments": {},
   "cell_type": "markdown",
   "metadata": {},
   "source": [
    "# Script to visualize data to assess visualization"
   ]
  },
  {
   "cell_type": "code",
   "execution_count": 3,
   "metadata": {},
   "outputs": [
    {
     "ename": "ModuleNotFoundError",
     "evalue": "No module named 'pandas'",
     "output_type": "error",
     "traceback": [
      "\u001b[0;31m---------------------------------------------------------------------------\u001b[0m",
      "\u001b[0;31mModuleNotFoundError\u001b[0m                       Traceback (most recent call last)",
      "\u001b[1;32m/local/home/mlederbauer/SPT/src/data_visualization_regularization.ipynb Cell 2\u001b[0m in \u001b[0;36m2\n\u001b[1;32m      <a href='vscode-notebook-cell://ssh-remote%2Bmavt-epse-s103l.d.ethz.ch/local/home/mlederbauer/SPT/src/data_visualization_regularization.ipynb#W1sdnNjb2RlLXJlbW90ZQ%3D%3D?line=0'>1</a>\u001b[0m \u001b[39m# import relevant libraries\u001b[39;00m\n\u001b[0;32m----> <a href='vscode-notebook-cell://ssh-remote%2Bmavt-epse-s103l.d.ethz.ch/local/home/mlederbauer/SPT/src/data_visualization_regularization.ipynb#W1sdnNjb2RlLXJlbW90ZQ%3D%3D?line=1'>2</a>\u001b[0m \u001b[39mimport\u001b[39;00m \u001b[39mpandas\u001b[39;00m \u001b[39mas\u001b[39;00m \u001b[39mpd\u001b[39;00m\n\u001b[1;32m      <a href='vscode-notebook-cell://ssh-remote%2Bmavt-epse-s103l.d.ethz.ch/local/home/mlederbauer/SPT/src/data_visualization_regularization.ipynb#W1sdnNjb2RlLXJlbW90ZQ%3D%3D?line=2'>3</a>\u001b[0m \u001b[39mimport\u001b[39;00m \u001b[39mnumpy\u001b[39;00m \u001b[39mas\u001b[39;00m \u001b[39mnp\u001b[39;00m\n\u001b[1;32m      <a href='vscode-notebook-cell://ssh-remote%2Bmavt-epse-s103l.d.ethz.ch/local/home/mlederbauer/SPT/src/data_visualization_regularization.ipynb#W1sdnNjb2RlLXJlbW90ZQ%3D%3D?line=3'>4</a>\u001b[0m \u001b[39mimport\u001b[39;00m \u001b[39mmatplotlib\u001b[39;00m\u001b[39m.\u001b[39;00m\u001b[39mpyplot\u001b[39;00m \u001b[39mas\u001b[39;00m \u001b[39mplt\u001b[39;00m\n",
      "\u001b[0;31mModuleNotFoundError\u001b[0m: No module named 'pandas'"
     ]
    }
   ],
   "source": [
    "# import relevant libraries\n",
    "import pandas as pd\n",
    "import numpy as np\n",
    "import matplotlib.pyplot as plt"
   ]
  },
  {
   "cell_type": "code",
   "execution_count": 1,
   "metadata": {},
   "outputs": [
    {
     "ename": "NameError",
     "evalue": "name 'pd' is not defined",
     "output_type": "error",
     "traceback": [
      "\u001b[0;31m---------------------------------------------------------------------------\u001b[0m",
      "\u001b[0;31mNameError\u001b[0m                                 Traceback (most recent call last)",
      "\u001b[1;32m/local/home/mlederbauer/SPT/src/data_visualization_regularization.ipynb Cell 3\u001b[0m in \u001b[0;36m2\n\u001b[1;32m      <a href='vscode-notebook-cell://ssh-remote%2Bmavt-epse-s103l.d.ethz.ch/local/home/mlederbauer/SPT/src/data_visualization_regularization.ipynb#W2sdnNjb2RlLXJlbW90ZQ%3D%3D?line=0'>1</a>\u001b[0m \u001b[39m# Load data from csv file\u001b[39;00m\n\u001b[0;32m----> <a href='vscode-notebook-cell://ssh-remote%2Bmavt-epse-s103l.d.ethz.ch/local/home/mlederbauer/SPT/src/data_visualization_regularization.ipynb#W2sdnNjb2RlLXJlbW90ZQ%3D%3D?line=1'>2</a>\u001b[0m data \u001b[39m=\u001b[39m pd\u001b[39m.\u001b[39mread_csv(\u001b[39m\"\u001b[39m\u001b[39m../raw_data/yaw_archive/full_dataset_for_training.csv\u001b[39m\u001b[39m\"\u001b[39m, sep\u001b[39m=\u001b[39m\u001b[39m\"\u001b[39m\u001b[39m;\u001b[39m\u001b[39m\"\u001b[39m)\n\u001b[1;32m      <a href='vscode-notebook-cell://ssh-remote%2Bmavt-epse-s103l.d.ethz.ch/local/home/mlederbauer/SPT/src/data_visualization_regularization.ipynb#W2sdnNjb2RlLXJlbW90ZQ%3D%3D?line=2'>3</a>\u001b[0m \u001b[39mprint\u001b[39m(data\u001b[39m.\u001b[39mhead())\n",
      "\u001b[0;31mNameError\u001b[0m: name 'pd' is not defined"
     ]
    }
   ],
   "source": [
    "# Load data from csv file\n",
    "data = pd.read_csv(\"../raw_data/yaw_archive/full_dataset_for_training.csv\", sep=\";\")\n",
    "print(data.head())"
   ]
  },
  {
   "cell_type": "code",
   "execution_count": 16,
   "metadata": {},
   "outputs": [
    {
     "name": "stderr",
     "output_type": "stream",
     "text": [
      "/local/home/mlederbauer/miniconda3/lib/python3.9/site-packages/pandas/core/arraylike.py:397: RuntimeWarning: invalid value encountered in log\n",
      "  result = getattr(ufunc, method)(*inputs, **kwargs)\n",
      "/local/home/mlederbauer/miniconda3/lib/python3.9/site-packages/pandas/core/arraylike.py:397: RuntimeWarning: invalid value encountered in log\n",
      "  result = getattr(ufunc, method)(*inputs, **kwargs)\n",
      "/local/home/mlederbauer/miniconda3/lib/python3.9/site-packages/pandas/core/arraylike.py:397: RuntimeWarning: invalid value encountered in log\n",
      "  result = getattr(ufunc, method)(*inputs, **kwargs)\n",
      "/local/home/mlederbauer/miniconda3/lib/python3.9/site-packages/pandas/core/arraylike.py:397: RuntimeWarning: invalid value encountered in log\n",
      "  result = getattr(ufunc, method)(*inputs, **kwargs)\n",
      "/local/home/mlederbauer/miniconda3/lib/python3.9/site-packages/pandas/core/arraylike.py:397: RuntimeWarning: invalid value encountered in log\n",
      "  result = getattr(ufunc, method)(*inputs, **kwargs)\n",
      "/local/home/mlederbauer/miniconda3/lib/python3.9/site-packages/pandas/core/arraylike.py:397: RuntimeWarning: invalid value encountered in log\n",
      "  result = getattr(ufunc, method)(*inputs, **kwargs)\n",
      "/local/home/mlederbauer/miniconda3/lib/python3.9/site-packages/pandas/core/arraylike.py:397: RuntimeWarning: invalid value encountered in log\n",
      "  result = getattr(ufunc, method)(*inputs, **kwargs)\n",
      "/local/home/mlederbauer/miniconda3/lib/python3.9/site-packages/pandas/core/arraylike.py:397: RuntimeWarning: invalid value encountered in log\n",
      "  result = getattr(ufunc, method)(*inputs, **kwargs)\n",
      "/local/home/mlederbauer/miniconda3/lib/python3.9/site-packages/pandas/core/arraylike.py:397: RuntimeWarning: invalid value encountered in log\n",
      "  result = getattr(ufunc, method)(*inputs, **kwargs)\n",
      "/local/home/mlederbauer/miniconda3/lib/python3.9/site-packages/pandas/core/arraylike.py:397: RuntimeWarning: invalid value encountered in log\n",
      "  result = getattr(ufunc, method)(*inputs, **kwargs)\n",
      "/local/home/mlederbauer/miniconda3/lib/python3.9/site-packages/pandas/core/arraylike.py:397: RuntimeWarning: divide by zero encountered in log\n",
      "  result = getattr(ufunc, method)(*inputs, **kwargs)\n",
      "/local/home/mlederbauer/miniconda3/lib/python3.9/site-packages/pandas/core/arraylike.py:397: RuntimeWarning: invalid value encountered in log\n",
      "  result = getattr(ufunc, method)(*inputs, **kwargs)\n",
      "/local/home/mlederbauer/miniconda3/lib/python3.9/site-packages/pandas/core/arraylike.py:397: RuntimeWarning: invalid value encountered in log\n",
      "  result = getattr(ufunc, method)(*inputs, **kwargs)\n",
      "/local/home/mlederbauer/miniconda3/lib/python3.9/site-packages/pandas/core/arraylike.py:397: RuntimeWarning: invalid value encountered in log\n",
      "  result = getattr(ufunc, method)(*inputs, **kwargs)\n",
      "/local/home/mlederbauer/miniconda3/lib/python3.9/site-packages/pandas/core/arraylike.py:397: RuntimeWarning: divide by zero encountered in log\n",
      "  result = getattr(ufunc, method)(*inputs, **kwargs)\n",
      "/local/home/mlederbauer/miniconda3/lib/python3.9/site-packages/pandas/core/arraylike.py:397: RuntimeWarning: invalid value encountered in log\n",
      "  result = getattr(ufunc, method)(*inputs, **kwargs)\n",
      "/local/home/mlederbauer/miniconda3/lib/python3.9/site-packages/pandas/core/arraylike.py:397: RuntimeWarning: invalid value encountered in log\n",
      "  result = getattr(ufunc, method)(*inputs, **kwargs)\n",
      "/local/home/mlederbauer/miniconda3/lib/python3.9/site-packages/pandas/core/arraylike.py:397: RuntimeWarning: invalid value encountered in log\n",
      "  result = getattr(ufunc, method)(*inputs, **kwargs)\n",
      "/local/home/mlederbauer/miniconda3/lib/python3.9/site-packages/pandas/core/arraylike.py:397: RuntimeWarning: invalid value encountered in log\n",
      "  result = getattr(ufunc, method)(*inputs, **kwargs)\n",
      "/local/home/mlederbauer/miniconda3/lib/python3.9/site-packages/pandas/core/arraylike.py:397: RuntimeWarning: invalid value encountered in log\n",
      "  result = getattr(ufunc, method)(*inputs, **kwargs)\n"
     ]
    },
    {
     "name": "stdout",
     "output_type": "stream",
     "text": [
      "{'SMILES0': 'SMILES', 'c1': 'T', 'c2': 'X', 'c3': 'Y', 'y0': 'logQ_gas_g_per_100g_C', 'y1': 'logQ_liq_g_per_100g_C', 'y2': 'log10P_mmHg', 'y3': 'Zc', 'y4': 'omega', 'y5': 'Tc_K', 'y6': 'rho_g_per_cm3', 'y7': 'phase_298K', 'y8': 'T_freeze_K', 'y9': 'dHfusion_kJ_per_mol', 'y10': 'T_boil_K', 'y11': 'dHvap_kJ_per_mol', 'y12': 'S_form_J_per_mol_per_K', 'y13': 'flashpoint_K', 'y14': 'dGform_kJ_per_mol', 'y15': 'Cp_liq_J_per_mol_per_K', 'y16': 'Cp_sol_J_per_mol_per_K', 'y17': 'dAform_kJ_per_mol', 'y18': 'henry_atm_m3_per_mol', 'y19': 'dUform_kJ_per_mol', 'y20': 'RI_nD', 'y21': 'logP_octanol_water', 'y22': 'r_gyration_A', 'y23': 'log_MW', 'y24': 'log_Pc_bar', 'y25': 'log_Vc_cm3_per_mol', 'y26': 'log_D_air_cm2_per_s', 'y27': 'log_D_water_cm2_per_s', 'y28': 'log_dHcomb_kJ_per_mol', 'y29': 'log_dHform_kJ_per_mol', 'y30': 'log_LOE_lower', 'y31': 'log_LOE_upper', 'y32': 'log_AIT_K', 'y33': 'log_Cp_gas_J_per_mol_per_K', 'y34': 'log_dipole_moment_D', 'y35': 'log_VdW_area_cm2_per_mol', 'y36': 'log_VdW_volume_cm3_per_mol', 'y37': 'log_sigma_dyne_per_cm', 'y38': 'log_thermal_cond_gas_W_per_mK', 'y39': 'log_thermal_cond_liq_W_per_mK', 'y40': 'log_thermal_exp_coef_liq_per_K', 'y41': 'log_viscosity_gas_cP', 'y42': 'log_viscosity_liq_cP'}\n",
      "         SMILES0  c0      c1   c2   c3   y0   y1   y2     y3     y4  ...  y33  \\\n",
      "0  BrC(Br)(Br)Br   0  148.00 -inf -inf -inf -inf -inf  0.525  0.501  ...  NaN   \n",
      "1  BrC(Br)(Br)Br   0  150.00 -inf -inf -inf -inf -inf  0.525  0.501  ...  NaN   \n",
      "2  BrC(Br)(Br)Br   0  186.15 -inf -inf -inf -inf -inf  0.525  0.501  ...  NaN   \n",
      "3  BrC(Br)(Br)Br   0  199.95 -inf -inf -inf -inf -inf  0.525  0.501  ...  NaN   \n",
      "4  BrC(Br)(Br)Br   0  200.00 -inf -inf -inf -inf -inf  0.525  0.501  ...  NaN   \n",
      "\n",
      "   y34  y35  y36  y37  y38  y39  y40  y41  y42  \n",
      "0  NaN  NaN  NaN  NaN  NaN  NaN  NaN  NaN  NaN  \n",
      "1  NaN  NaN  NaN  NaN  NaN  NaN  NaN  NaN  NaN  \n",
      "2  NaN  NaN  NaN  NaN  NaN  NaN  NaN  NaN  NaN  \n",
      "3  NaN  NaN  NaN  NaN  NaN  NaN  NaN  NaN  NaN  \n",
      "4  NaN  NaN  NaN  NaN  NaN  NaN  NaN  NaN  NaN  \n",
      "\n",
      "[5 rows x 48 columns]\n"
     ]
    },
    {
     "name": "stderr",
     "output_type": "stream",
     "text": [
      "/local/home/mlederbauer/miniconda3/lib/python3.9/site-packages/pandas/core/arraylike.py:397: RuntimeWarning: invalid value encountered in log\n",
      "  result = getattr(ufunc, method)(*inputs, **kwargs)\n"
     ]
    }
   ],
   "source": [
    "# hand-curated list of columns that should be taken the logarithm of\n",
    "take_the_logarithm_list = ['AIT_K', 'Cp_gas_J_per_mol_per_K', 'D_air_cm2_per_s', 'D_water_cm2_per_s', 'LOE_lower', 'LOE_upper', 'MW', 'Pc_bar',\n",
    "                               'Vc_cm3_per_mol', 'VdW_area_cm2_per_mol', 'VdW_volume_cm3_per_mol', 'dHcomb_kJ_per_mol', 'dHform_kJ_per_mol',\n",
    "                               'dipole_moment_D', 'sigma_dyne_per_cm', 'thermal_cond_gas_W_per_mK', 'thermal_cond_liq_W_per_mK',\n",
    "                               'thermal_exp_coef_liq_per_K', 'viscosity_gas_cP', 'viscosity_liq_cP']\n",
    "\n",
    "# Iterate over each column and its content\n",
    "for col in data.columns:\n",
    "    # if col is in take_the_logarithm_list, take the logarithm of the values and save them in a new column called col + '_log'\n",
    "    if col in take_the_logarithm_list:\n",
    "        data['log_' +col] = np.log(data[col])\n",
    "        # remove the original column\n",
    "        data.drop(col, axis=1, inplace=True)\n",
    "\n",
    "y_count = 0\n",
    "col_dict = {}\n",
    "\n",
    "#iterate over each column and its content\n",
    "for col in data.columns:\n",
    "    # rename SMILES column to SMILES0\n",
    "    if col == 'SMILES':\n",
    "        col_dict['SMILES0'] = 'SMILES'\n",
    "        data.rename(columns={col: 'SMILES0'}, inplace=True)\n",
    "        # add a new column c0 after SMILES0 and set it to 0\n",
    "        data.insert(1, 'c0', 0)\n",
    "    # rename T column to c1\n",
    "    elif col == 'T':\n",
    "        col_dict['c1'] = 'T'\n",
    "        data.rename(columns={col: 'c1'}, inplace=True)\n",
    "    # rename X column to c2\n",
    "    elif col == 'X':\n",
    "        col_dict['c2'] = 'X'\n",
    "        data.rename(columns={col: 'c2'}, inplace=True)\n",
    "    # rename Y column to c3\n",
    "    elif col == 'Y':\n",
    "        col_dict['c3'] = 'Y'\n",
    "        data.rename(columns={col: 'c3'}, inplace=True)\n",
    "    # rename all other columns y0 to yN\n",
    "    else:\n",
    "        # add new item to col_dict, where the key is y + y_count and the value is the original column name\n",
    "        col_dict['y' + str(y_count)] = col \n",
    "        data.rename(columns={col: 'y' + str(y_count)}, inplace=True)\n",
    "        y_count += 1\n",
    "\n",
    "# order columns so that SMILES0 is first, c0 is second, c1 is third, c2 is fourth, c3 is fifth and all other columns are ordered alphabetically\n",
    "#data = data[['SMILES0', 'c0', 'c1', 'c2', 'c3'] + sorted([col for col in data.columns if col not in ['SMILES0', 'c0', 'c1', 'c2', 'c3']])]\n",
    "\n",
    "print(col_dict)\n",
    "print(data.head())"
   ]
  },
  {
   "cell_type": "code",
   "execution_count": 17,
   "metadata": {},
   "outputs": [],
   "source": [
    "data[['c2', 'c3']] = data[['c2', 'c3']].replace(-np.inf, 0)\n",
    "\n",
    "# save data to csv file\n",
    "data.to_csv(\"yaw_data_collection/data_preparation/full_dataset_for_training_formatted.csv\", sep=\",\", index=False)\n",
    "\n",
    "# save dictionary to csv file\n",
    "pd.DataFrame.from_dict(col_dict, orient='index').to_csv(\"../raw_data/yaw_archive/full_dataset_for_training_formatted_col_dict.csv\", sep=\",\", index=False)\n",
    "### changed this manually"
   ]
  },
  {
   "cell_type": "code",
   "execution_count": 18,
   "metadata": {},
   "outputs": [
    {
     "name": "stdout",
     "output_type": "stream",
     "text": [
      "         SMILES0  c0      c1   c2   c3   y0   y1   y2     y3     y4  ...  y33  \\\n",
      "0  BrC(Br)(Br)Br   0  148.00 -inf -inf -inf -inf -inf  0.525  0.501  ...  NaN   \n",
      "1  BrC(Br)(Br)Br   0  150.00 -inf -inf -inf -inf -inf  0.525  0.501  ...  NaN   \n",
      "2  BrC(Br)(Br)Br   0  186.15 -inf -inf -inf -inf -inf  0.525  0.501  ...  NaN   \n",
      "3  BrC(Br)(Br)Br   0  199.95 -inf -inf -inf -inf -inf  0.525  0.501  ...  NaN   \n",
      "4  BrC(Br)(Br)Br   0  200.00 -inf -inf -inf -inf -inf  0.525  0.501  ...  NaN   \n",
      "\n",
      "   y34  y35  y36  y37  y38  y39  y40  y41  y42  \n",
      "0  NaN  NaN  NaN  NaN  NaN  NaN  NaN  NaN  NaN  \n",
      "1  NaN  NaN  NaN  NaN  NaN  NaN  NaN  NaN  NaN  \n",
      "2  NaN  NaN  NaN  NaN  NaN  NaN  NaN  NaN  NaN  \n",
      "3  NaN  NaN  NaN  NaN  NaN  NaN  NaN  NaN  NaN  \n",
      "4  NaN  NaN  NaN  NaN  NaN  NaN  NaN  NaN  NaN  \n",
      "\n",
      "[5 rows x 48 columns]\n"
     ]
    }
   ],
   "source": [
    "print(data.head())"
   ]
  },
  {
   "cell_type": "code",
   "execution_count": 8,
   "metadata": {},
   "outputs": [
    {
     "name": "stdout",
     "output_type": "stream",
     "text": [
      "MW\n",
      "logQ_gas_g_per_100g_C\n",
      "logQ_liq_g_per_100g_C\n",
      "log10P_mmHg\n",
      "Zc\n",
      "omega\n",
      "Tc_K\n",
      "Pc_bar\n",
      "Vc_cm3_per_mol\n",
      "rho_g_per_cm3\n",
      "D_air_cm2_per_s\n",
      "D_water_cm2_per_s\n",
      "dHcomb_kJ_per_mol\n",
      "phase_298K\n",
      "dHform_kJ_per_mol\n",
      "T_freeze_K\n",
      "dHfusion_kJ_per_mol\n",
      "T_boil_K\n",
      "dHvap_kJ_per_mol\n",
      "S_form_J_per_mol_per_K\n",
      "LOE_lower\n"
     ]
    },
    {
     "name": "stderr",
     "output_type": "stream",
     "text": [
      "/tmp/ipykernel_2563270/3147076675.py:32: RuntimeWarning: More than 20 figures have been opened. Figures created through the pyplot interface (`matplotlib.pyplot.figure`) are retained until explicitly closed and may consume too much memory. (To control this warning, see the rcParam `figure.max_open_warning`).\n",
      "  fig, (ax1, ax2) = plt.subplots(ncols=2, figsize=(12, 5))\n"
     ]
    },
    {
     "name": "stdout",
     "output_type": "stream",
     "text": [
      "LOE_upper\n",
      "flashpoint_K\n",
      "AIT_K\n",
      "dGform_kJ_per_mol\n",
      "Cp_gas_J_per_mol_per_K\n",
      "Cp_liq_J_per_mol_per_K\n",
      "Cp_sol_J_per_mol_per_K\n",
      "dAform_kJ_per_mol\n",
      "henry_atm_m3_per_mol\n",
      "dUform_kJ_per_mol\n",
      "RI_nD\n",
      "logP_octanol_water\n",
      "dipole_moment_D\n",
      "VdW_area_cm2_per_mol\n",
      "VdW_volume_cm3_per_mol\n",
      "r_gyration_A\n",
      "sigma_dyne_per_cm\n",
      "thermal_cond_gas_W_per_mK\n",
      "thermal_cond_liq_W_per_mK\n",
      "thermal_exp_coef_liq_per_K\n",
      "viscosity_gas_cP\n",
      "viscosity_liq_cP\n"
     ]
    },
    {
     "data": {
      "text/plain": [
       "<Figure size 1200x500 with 0 Axes>"
      ]
     },
     "metadata": {},
     "output_type": "display_data"
    },
    {
     "data": {
      "text/plain": [
       "<Figure size 1200x500 with 0 Axes>"
      ]
     },
     "metadata": {},
     "output_type": "display_data"
    },
    {
     "data": {
      "text/plain": [
       "<Figure size 1200x500 with 0 Axes>"
      ]
     },
     "metadata": {},
     "output_type": "display_data"
    },
    {
     "data": {
      "text/plain": [
       "<Figure size 1200x500 with 0 Axes>"
      ]
     },
     "metadata": {},
     "output_type": "display_data"
    },
    {
     "data": {
      "text/plain": [
       "<Figure size 1200x500 with 0 Axes>"
      ]
     },
     "metadata": {},
     "output_type": "display_data"
    },
    {
     "data": {
      "text/plain": [
       "<Figure size 1200x500 with 0 Axes>"
      ]
     },
     "metadata": {},
     "output_type": "display_data"
    },
    {
     "data": {
      "text/plain": [
       "<Figure size 1200x500 with 0 Axes>"
      ]
     },
     "metadata": {},
     "output_type": "display_data"
    },
    {
     "data": {
      "text/plain": [
       "<Figure size 1200x500 with 0 Axes>"
      ]
     },
     "metadata": {},
     "output_type": "display_data"
    },
    {
     "data": {
      "text/plain": [
       "<Figure size 1200x500 with 0 Axes>"
      ]
     },
     "metadata": {},
     "output_type": "display_data"
    },
    {
     "data": {
      "text/plain": [
       "<Figure size 1200x500 with 0 Axes>"
      ]
     },
     "metadata": {},
     "output_type": "display_data"
    },
    {
     "data": {
      "text/plain": [
       "<Figure size 1200x500 with 0 Axes>"
      ]
     },
     "metadata": {},
     "output_type": "display_data"
    },
    {
     "data": {
      "text/plain": [
       "<Figure size 1200x500 with 0 Axes>"
      ]
     },
     "metadata": {},
     "output_type": "display_data"
    },
    {
     "data": {
      "text/plain": [
       "<Figure size 1200x500 with 0 Axes>"
      ]
     },
     "metadata": {},
     "output_type": "display_data"
    },
    {
     "data": {
      "text/plain": [
       "<Figure size 1200x500 with 0 Axes>"
      ]
     },
     "metadata": {},
     "output_type": "display_data"
    },
    {
     "data": {
      "text/plain": [
       "<Figure size 1200x500 with 0 Axes>"
      ]
     },
     "metadata": {},
     "output_type": "display_data"
    },
    {
     "data": {
      "text/plain": [
       "<Figure size 1200x500 with 0 Axes>"
      ]
     },
     "metadata": {},
     "output_type": "display_data"
    },
    {
     "data": {
      "text/plain": [
       "<Figure size 1200x500 with 0 Axes>"
      ]
     },
     "metadata": {},
     "output_type": "display_data"
    },
    {
     "data": {
      "text/plain": [
       "<Figure size 1200x500 with 0 Axes>"
      ]
     },
     "metadata": {},
     "output_type": "display_data"
    },
    {
     "data": {
      "text/plain": [
       "<Figure size 1200x500 with 0 Axes>"
      ]
     },
     "metadata": {},
     "output_type": "display_data"
    },
    {
     "data": {
      "text/plain": [
       "<Figure size 1200x500 with 0 Axes>"
      ]
     },
     "metadata": {},
     "output_type": "display_data"
    },
    {
     "data": {
      "text/plain": [
       "<Figure size 1200x500 with 0 Axes>"
      ]
     },
     "metadata": {},
     "output_type": "display_data"
    },
    {
     "data": {
      "text/plain": [
       "<Figure size 1200x500 with 0 Axes>"
      ]
     },
     "metadata": {},
     "output_type": "display_data"
    },
    {
     "data": {
      "text/plain": [
       "<Figure size 1200x500 with 0 Axes>"
      ]
     },
     "metadata": {},
     "output_type": "display_data"
    },
    {
     "data": {
      "text/plain": [
       "<Figure size 1200x500 with 0 Axes>"
      ]
     },
     "metadata": {},
     "output_type": "display_data"
    },
    {
     "data": {
      "text/plain": [
       "<Figure size 1200x500 with 0 Axes>"
      ]
     },
     "metadata": {},
     "output_type": "display_data"
    },
    {
     "data": {
      "text/plain": [
       "<Figure size 1200x500 with 0 Axes>"
      ]
     },
     "metadata": {},
     "output_type": "display_data"
    },
    {
     "data": {
      "text/plain": [
       "<Figure size 1200x500 with 0 Axes>"
      ]
     },
     "metadata": {},
     "output_type": "display_data"
    },
    {
     "data": {
      "text/plain": [
       "<Figure size 1200x500 with 0 Axes>"
      ]
     },
     "metadata": {},
     "output_type": "display_data"
    },
    {
     "data": {
      "text/plain": [
       "<Figure size 1200x500 with 0 Axes>"
      ]
     },
     "metadata": {},
     "output_type": "display_data"
    },
    {
     "data": {
      "text/plain": [
       "<Figure size 1200x500 with 0 Axes>"
      ]
     },
     "metadata": {},
     "output_type": "display_data"
    },
    {
     "data": {
      "text/plain": [
       "<Figure size 1200x500 with 0 Axes>"
      ]
     },
     "metadata": {},
     "output_type": "display_data"
    },
    {
     "data": {
      "text/plain": [
       "<Figure size 1200x500 with 0 Axes>"
      ]
     },
     "metadata": {},
     "output_type": "display_data"
    },
    {
     "data": {
      "text/plain": [
       "<Figure size 1200x500 with 0 Axes>"
      ]
     },
     "metadata": {},
     "output_type": "display_data"
    },
    {
     "data": {
      "text/plain": [
       "<Figure size 1200x500 with 0 Axes>"
      ]
     },
     "metadata": {},
     "output_type": "display_data"
    },
    {
     "data": {
      "text/plain": [
       "<Figure size 1200x500 with 0 Axes>"
      ]
     },
     "metadata": {},
     "output_type": "display_data"
    },
    {
     "data": {
      "text/plain": [
       "<Figure size 1200x500 with 0 Axes>"
      ]
     },
     "metadata": {},
     "output_type": "display_data"
    },
    {
     "data": {
      "text/plain": [
       "<Figure size 1200x500 with 0 Axes>"
      ]
     },
     "metadata": {},
     "output_type": "display_data"
    },
    {
     "data": {
      "text/plain": [
       "<Figure size 1200x500 with 0 Axes>"
      ]
     },
     "metadata": {},
     "output_type": "display_data"
    },
    {
     "data": {
      "text/plain": [
       "<Figure size 1200x500 with 0 Axes>"
      ]
     },
     "metadata": {},
     "output_type": "display_data"
    },
    {
     "data": {
      "text/plain": [
       "<Figure size 1200x500 with 0 Axes>"
      ]
     },
     "metadata": {},
     "output_type": "display_data"
    },
    {
     "data": {
      "text/plain": [
       "<Figure size 1200x500 with 0 Axes>"
      ]
     },
     "metadata": {},
     "output_type": "display_data"
    },
    {
     "data": {
      "text/plain": [
       "<Figure size 1200x500 with 0 Axes>"
      ]
     },
     "metadata": {},
     "output_type": "display_data"
    },
    {
     "data": {
      "text/plain": [
       "<Figure size 1200x500 with 0 Axes>"
      ]
     },
     "metadata": {},
     "output_type": "display_data"
    }
   ],
   "source": [
    "# Loop over all columns\n",
    "for i in range(data.shape[1]):\n",
    "\n",
    "    # Select column i\n",
    "    col = data.iloc[:, i]\n",
    "\n",
    "    # get column name\n",
    "    col_name = col.name\n",
    "\n",
    "    if col_name in ['SMILES', 'T', 'X', 'Y']:\n",
    "        continue\n",
    "\n",
    "    print(col_name)\n",
    "\n",
    "    # Select only the non-negative values and calculate the mean and standard deviation\n",
    "    values = col[col != -np.inf]\n",
    "    mean = np.mean(values)\n",
    "    std = np.std(values)\n",
    "\n",
    "    # Normalize the values by subtracting the mean and dividing by the standard deviation\n",
    "    norm_values = (values - mean) / std\n",
    "\n",
    "    # Take the log of the non-negative values and calculate the mean and standard deviation\n",
    "    log_values = np.log(values[values > 0])\n",
    "    log_mean = np.mean(log_values)\n",
    "    log_std = np.std(log_values)\n",
    "\n",
    "    # Normalize the log values by subtracting the log mean and dividing by the log standard deviation\n",
    "    norm_log_values = (log_values - log_mean) / log_std\n",
    "\n",
    "    # Plot the normalized values as a histogram with 50 bins\n",
    "    fig, (ax1, ax2) = plt.subplots(ncols=2, figsize=(12, 5))\n",
    "\n",
    "    ax1.hist(norm_values, bins=50)\n",
    "    ax1.set_title(f\"Normalized Distribution of {col_name}, Nr. {i}\")\n",
    "    ax1.set_xlabel(\"Value\")\n",
    "    ax1.set_ylabel(\"Frequency\")\n",
    "\n",
    "    # Plot the normalized log values as a histogram with 50 bins\n",
    "    ax2.hist(norm_log_values, bins=50)\n",
    "    ax2.set_title(f\"Normalized Log Distribution of {col_name}, Nr. {i}\")\n",
    "    ax2.set_xlabel(\"Log Value\")\n",
    "    ax2.set_ylabel(\"Frequency\")\n",
    "\n",
    "    # Save the plot as a PNG file\n",
    "    plt.savefig(\"visualization/aligned_normalized_\" + col_name + \".png\")\n",
    "\n",
    "    # clear the plot\n",
    "    plt.clf()"
   ]
  }
 ],
 "metadata": {
  "kernelspec": {
   "display_name": "base",
   "language": "python",
   "name": "python3"
  },
  "language_info": {
   "codemirror_mode": {
    "name": "ipython",
    "version": 3
   },
   "file_extension": ".py",
   "mimetype": "text/x-python",
   "name": "python",
   "nbconvert_exporter": "python",
   "pygments_lexer": "ipython3",
   "version": "3.8.10"
  },
  "orig_nbformat": 4
 },
 "nbformat": 4,
 "nbformat_minor": 2
}
